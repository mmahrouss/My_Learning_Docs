{
 "cells": [
  {
   "cell_type": "markdown",
   "metadata": {},
   "source": [
    "# 1. IO"
   ]
  },
  {
   "cell_type": "markdown",
   "metadata": {},
   "source": [
    "Reading a file involves the Open function which is a general function used for Inputs and outputs.\n",
    "```Julia\n",
    "open(<\"File Path string\"> , <\"Here we use either boolean for the modes of Mode strings\">) \n",
    "```\n",
    "Check [here](https://docs.julialang.org/en/v1/base/io-network/index.html) for more details on the modes.\n",
    "To read a file directly we can use the function read. \n",
    "we can pass to the first argumant a string of the path or an IO object(like the output of open).\n",
    "If you pass the second argument as String the whole file is read as abstract string. if using another type to read it will read a character by character like a buffer.\n"
   ]
  },
  {
   "cell_type": "code",
   "execution_count": 2,
   "metadata": {},
   "outputs": [
    {
     "data": {
      "text/plain": [
       "2×3 Array{String,2}:\n",
       " \"I \"       \"am\"      \"Just\"   \n",
       " \"testing\"  \"Inputs\"  \"Outputs\""
      ]
     },
     "execution_count": 2,
     "metadata": {},
     "output_type": "execute_result"
    }
   ],
   "source": [
    "test_a = [\"I \" \"am\"  \"Just\" \"testing\" \"Inputs\" \"Outputs\"] "
   ]
  },
  {
   "cell_type": "markdown",
   "metadata": {},
   "source": [
    "To write an array in a file you can use Delimited Files to do it. Here you can send an Array and a delimitting character to place after each element in the array as following.\n",
    "The safe way to autmatically exit a file after it's opened use the following syntax\n",
    "```Julia\n",
    "open(...) do <variableName>\n",
    "    #Do something \n",
    "end\n",
    "``` \n",
    "An example is shown next "
   ]
  },
  {
   "cell_type": "code",
   "execution_count": 13,
   "metadata": {},
   "outputs": [],
   "source": [
    "using DelimitedFiles\n",
    "open(\"Texting.txt\" , \"w\") do file\n",
    "    writedlm(file, test_a ,'\\n')\n",
    "end"
   ]
  },
  {
   "cell_type": "markdown",
   "metadata": {},
   "source": [
    "Here I will test reading the file as a string using read delimited `readdlm`:\n"
   ]
  },
  {
   "cell_type": "code",
   "execution_count": 15,
   "metadata": {},
   "outputs": [
    {
     "data": {
      "text/plain": [
       "6×1 Array{Any,2}:\n",
       " \"I \"     \n",
       " \"am\"     \n",
       " \"Just\"   \n",
       " \"testing\"\n",
       " \"Inputs\" \n",
       " \"Outputs\""
      ]
     },
     "execution_count": 15,
     "metadata": {},
     "output_type": "execute_result"
    }
   ],
   "source": [
    "open(\"Texting.txt\" , \"r\") do file\n",
    "    readdlm(file ,'\\n')\n",
    "end"
   ]
  },
  {
   "cell_type": "code",
   "execution_count": null,
   "metadata": {},
   "outputs": [],
   "source": []
  },
  {
   "cell_type": "markdown",
   "metadata": {},
   "source": []
  }
 ],
 "metadata": {
  "kernelspec": {
   "display_name": "Julia 1.1.0",
   "language": "julia",
   "name": "julia-1.1"
  },
  "language_info": {
   "file_extension": ".jl",
   "mimetype": "application/julia",
   "name": "julia",
   "version": "1.1.0"
  }
 },
 "nbformat": 4,
 "nbformat_minor": 2
}
