{
 "cells": [
  {
   "cell_type": "markdown",
   "metadata": {},
   "source": [
    "*This tutorial is written by me it is to be used as is. most of the notes highlight differences or special syntax I learned in Julia. I already have knowledge of C++,MATLAB and Python. I will skip the commonalities like simple operators and all that*"
   ]
  },
  {
   "cell_type": "markdown",
   "metadata": {},
   "source": [
    "# 1. Basics and notes\n"
   ]
  },
  {
   "cell_type": "markdown",
   "metadata": {},
   "source": [
    "The difference between `print` and `println` is that the latter adds a new line at the end"
   ]
  },
  {
   "cell_type": "code",
   "execution_count": 68,
   "metadata": {},
   "outputs": [
    {
     "name": "stdout",
     "output_type": "stream",
     "text": [
      "1    2  1  \n",
      "  2  \n"
     ]
    }
   ],
   "source": [
    "a = [ \"1  \" \"  2  \"]\n",
    "for i in a \n",
    "    print(i)\n",
    "end\n",
    "for i in a \n",
    "    println(i)\n",
    "end"
   ]
  },
  {
   "cell_type": "markdown",
   "metadata": {},
   "source": [
    "Julia uses `^` for exponentiation unlike python's`**`"
   ]
  },
  {
   "cell_type": "markdown",
   "metadata": {},
   "source": [
    "rational numbers are represented as `<Numerator>//<Denominator>` in the simplist form"
   ]
  },
  {
   "cell_type": "code",
   "execution_count": 70,
   "metadata": {},
   "outputs": [
    {
     "data": {
      "text/plain": [
       "1//2"
      ]
     },
     "execution_count": 70,
     "metadata": {},
     "output_type": "execute_result"
    }
   ],
   "source": [
    "(3*4*5)//(6*4*5)"
   ]
  },
  {
   "cell_type": "markdown",
   "metadata": {},
   "source": [
    "You can write unicode characters in Julia. To use some of the characters use the \\ (backslash) and start writing and press tab to search and enter to select and another tab to convert to the unicode characters\n",
    "Check [here](https://docs.julialang.org/en/v1/manual/unicode-input/index.html) for the available shortcuts"
   ]
  },
  {
   "cell_type": "code",
   "execution_count": 73,
   "metadata": {},
   "outputs": [
    {
     "data": {
      "text/plain": [
       "5"
      ]
     },
     "execution_count": 73,
     "metadata": {},
     "output_type": "execute_result"
    }
   ],
   "source": [
    "α = β = 5"
   ]
  },
  {
   "cell_type": "code",
   "execution_count": 75,
   "metadata": {},
   "outputs": [
    {
     "data": {
      "text/plain": [
       "true"
      ]
     },
     "execution_count": 75,
     "metadata": {},
     "output_type": "execute_result"
    }
   ],
   "source": [
    "📵 = true"
   ]
  },
  {
   "cell_type": "markdown",
   "metadata": {},
   "source": [
    "## Julia Types"
   ]
  },
  {
   "cell_type": "markdown",
   "metadata": {},
   "source": [
    "To get a type of a Julia variable you can use the `typeof()` function"
   ]
  },
  {
   "cell_type": "code",
   "execution_count": 88,
   "metadata": {},
   "outputs": [
    {
     "data": {
      "text/plain": [
       "Int64"
      ]
     },
     "execution_count": 88,
     "metadata": {},
     "output_type": "execute_result"
    }
   ],
   "source": [
    "x=5\n",
    "typeof(x)"
   ]
  },
  {
   "cell_type": "markdown",
   "metadata": {},
   "source": [
    "Julia types are in a form of a tree. Like in the following:\n",
    "![Number types](https://upload.wikimedia.org/wikipedia/commons/4/40/Type-hierarchy-for-julia-numbers.png) \n",
    "for more info click [here](https://en.wikibooks.org/wiki/Introducing_Julia/Types) \n",
    "One important concept in the above link is abtract and concrete types"
   ]
  },
  {
   "cell_type": "code",
   "execution_count": null,
   "metadata": {},
   "outputs": [],
   "source": []
  },
  {
   "cell_type": "markdown",
   "metadata": {},
   "source": [
    "# 2. IO"
   ]
  },
  {
   "cell_type": "markdown",
   "metadata": {},
   "source": [
    "Reading a file involves the Open function which is a general function used for Inputs and outputs.\n",
    "```Julia\n",
    "open(<\"File Path string\"> , <\"Here we use either boolean for the modes of Mode strings\">) \n",
    "```\n",
    "Check [here](https://docs.julialang.org/en/v1/base/io-network/index.html) for more details on the modes.\n",
    "To read a file directly we can use the function read. \n",
    "we can pass to the first argumant a string of the path or an IO object(like the output of open).\n",
    "If you pass the second argument as String the whole file is read as abstract string. if using another type to read it will read a character by character like a buffer.\n"
   ]
  },
  {
   "cell_type": "code",
   "execution_count": 2,
   "metadata": {},
   "outputs": [
    {
     "data": {
      "text/plain": [
       "2×3 Array{String,2}:\n",
       " \"I \"       \"am\"      \"Just\"   \n",
       " \"testing\"  \"Inputs\"  \"Outputs\""
      ]
     },
     "execution_count": 2,
     "metadata": {},
     "output_type": "execute_result"
    }
   ],
   "source": [
    "test_a = [\"I \" \"am\"  \"Just\" \"testing\" \"Inputs\" \"Outputs\"] "
   ]
  },
  {
   "cell_type": "markdown",
   "metadata": {},
   "source": [
    "To write an array in a file you can use Delimited Files to do it. Here you can send an Array and a delimitting character to place after each element in the array as following.\n",
    "The safe way to autmatically exit a file after it's opened use the following syntax\n",
    "```Julia\n",
    "open(...) do <variableName>\n",
    "    #Do something \n",
    "end\n",
    "``` \n",
    "An example is shown next "
   ]
  },
  {
   "cell_type": "code",
   "execution_count": 13,
   "metadata": {},
   "outputs": [],
   "source": [
    "using DelimitedFiles\n",
    "open(\"Texting.txt\" , \"w\") do file\n",
    "    writedlm(file, test_a ,'\\n')\n",
    "end"
   ]
  },
  {
   "cell_type": "markdown",
   "metadata": {},
   "source": [
    "Here I will test reading the file as a string using read delimited `readdlm`:\n"
   ]
  },
  {
   "cell_type": "code",
   "execution_count": 15,
   "metadata": {},
   "outputs": [
    {
     "data": {
      "text/plain": [
       "6×1 Array{Any,2}:\n",
       " \"I \"     \n",
       " \"am\"     \n",
       " \"Just\"   \n",
       " \"testing\"\n",
       " \"Inputs\" \n",
       " \"Outputs\""
      ]
     },
     "execution_count": 15,
     "metadata": {},
     "output_type": "execute_result"
    }
   ],
   "source": [
    "open(\"Texting.txt\" , \"r\") do file\n",
    "    readdlm(file ,'\\n')\n",
    "end"
   ]
  },
  {
   "cell_type": "markdown",
   "metadata": {},
   "source": [
    "Also equivilent to read delimited on '\\n' ( new line character ) is the readlines function\n"
   ]
  },
  {
   "cell_type": "code",
   "execution_count": 17,
   "metadata": {},
   "outputs": [
    {
     "data": {
      "text/plain": [
       "6-element Array{String,1}:\n",
       " \"I \"     \n",
       " \"am\"     \n",
       " \"Just\"   \n",
       " \"testing\"\n",
       " \"Inputs\" \n",
       " \"Outputs\""
      ]
     },
     "execution_count": 17,
     "metadata": {},
     "output_type": "execute_result"
    }
   ],
   "source": [
    "readlines(\"Texting.txt\")"
   ]
  },
  {
   "cell_type": "markdown",
   "metadata": {},
   "source": [
    "Next we try the read function and passing `String` as the second argument:"
   ]
  },
  {
   "cell_type": "code",
   "execution_count": 29,
   "metadata": {},
   "outputs": [
    {
     "data": {
      "text/plain": [
       "\"I \\nam\\nJust\\ntesting\\nInputs\\nOutputs\\n\""
      ]
     },
     "execution_count": 29,
     "metadata": {},
     "output_type": "execute_result"
    }
   ],
   "source": [
    "read(\"Texting.txt\",String)"
   ]
  },
  {
   "cell_type": "markdown",
   "metadata": {},
   "source": [
    "If we used char instead of string it reads characted by character. eof fhunction checks if the end of file is reached."
   ]
  },
  {
   "cell_type": "code",
   "execution_count": 66,
   "metadata": {
    "collapsed": true
   },
   "outputs": [
    {
     "name": "stdout",
     "output_type": "stream",
     "text": [
      "I\n",
      " \n",
      "\n",
      "\n",
      "a\n",
      "m\n",
      "\n",
      "\n",
      "J\n",
      "u\n",
      "s\n",
      "t\n",
      "\n",
      "\n",
      "t\n",
      "e\n",
      "s\n",
      "t\n",
      "i\n",
      "n\n",
      "g\n",
      "\n",
      "\n",
      "I\n",
      "n\n",
      "p\n",
      "u\n",
      "t\n",
      "s\n",
      "\n",
      "\n",
      "O\n",
      "u\n",
      "t\n",
      "p\n",
      "u\n",
      "t\n",
      "s\n",
      "\n",
      "\n"
     ]
    }
   ],
   "source": [
    "open(\"Texting.txt\",\"r\") do file\n",
    "    while(!eof(file))\n",
    "        println(read(file,Char))\n",
    "    end\n",
    "end"
   ]
  },
  {
   "cell_type": "markdown",
   "metadata": {},
   "source": [
    "if we use `readline` it will get each line"
   ]
  },
  {
   "cell_type": "code",
   "execution_count": 62,
   "metadata": {},
   "outputs": [
    {
     "name": "stdout",
     "output_type": "stream",
     "text": [
      "I \n",
      "am\n",
      "Just\n",
      "testing\n",
      "Inputs\n",
      "Outputs\n"
     ]
    }
   ],
   "source": [
    "open(\"Texting.txt\",\"r\") do file\n",
    "    for i in 1:6\n",
    "        println(readline(file))\n",
    "    end\n",
    "end"
   ]
  },
  {
   "cell_type": "markdown",
   "metadata": {},
   "source": [
    "Also you can iterate over lines using `eachline`"
   ]
  },
  {
   "cell_type": "code",
   "execution_count": 63,
   "metadata": {},
   "outputs": [
    {
     "name": "stdout",
     "output_type": "stream",
     "text": [
      "I \n",
      "am\n",
      "Just\n",
      "testing\n",
      "Inputs\n",
      "Outputs\n"
     ]
    }
   ],
   "source": [
    "open(\"Texting.txt\",\"r\") do file\n",
    "    for i in eachline(file)\n",
    "        println(i)\n",
    "    end\n",
    "end"
   ]
  }
 ],
 "metadata": {
  "kernelspec": {
   "display_name": "Julia 1.1.0",
   "language": "julia",
   "name": "julia-1.1"
  },
  "language_info": {
   "file_extension": ".jl",
   "mimetype": "application/julia",
   "name": "julia",
   "version": "1.1.0"
  }
 },
 "nbformat": 4,
 "nbformat_minor": 2
}
