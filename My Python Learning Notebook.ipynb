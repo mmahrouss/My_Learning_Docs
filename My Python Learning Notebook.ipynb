{
 "cells": [
  {
   "cell_type": "markdown",
   "metadata": {},
   "source": [
    "One Problem I faced multiple times is to access a NumPy array with an array or list of indices.\n",
    "One solution I came up with is as follows. \n",
    "```py\n",
    "np.concatenate(tuple([a[...,:,:,i,:,:,...].reshape((1,*a[...,:,:,i,:,:,...].shape)) for i in frame_indices]))\n",
    "```"
   ]
  },
  {
   "cell_type": "markdown",
   "metadata": {},
   "source": [
    "You can use %debug to debug in jupyter. For more info visit: https://gist.github.com/mono0926/6326015"
   ]
  }
 ],
 "metadata": {
  "kernelspec": {
   "display_name": "Python 3",
   "language": "python",
   "name": "python3"
  },
  "language_info": {
   "codemirror_mode": {
    "name": "ipython",
    "version": 3
   },
   "file_extension": ".py",
   "mimetype": "text/x-python",
   "name": "python",
   "nbconvert_exporter": "python",
   "pygments_lexer": "ipython3",
   "version": "3.6.7"
  }
 },
 "nbformat": 4,
 "nbformat_minor": 2
}
